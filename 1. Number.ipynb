{
 "cells": [
  {
   "cell_type": "markdown",
   "metadata": {},
   "source": [
    "# Python 정리노트: Number\n",
    "\n",
    "## 1. 종류\n",
    "\n",
    "Numeric types: 정수(Integer), 실수(Floating-point), 복소수(Complex numbers) \n",
    "  * 내장함수 type()로 객체의 형을 확인 가능하다.\n",
    "  \n",
    "\n",
    "1) 정수\n",
    "\n",
    "  * 10진수: 213, -179, 0 등\n",
    "  \n",
    "  * 8진수: 숫자가 0o 또는 0O(숫자 0 + 알파벳 소문자 o 또는 대문자 O)로 시작\n",
    "  \n",
    "  * 6진수: 숫자가 0x로 시작    \n",
    "  \n",
    "2) 실수\n",
    "  \n",
    "  * 4.24e10, 4.24E-10  등으로 지수 표현이 가능하다(e, E 둘 다 무방)\n",
    "\n",
    "3) 복소수 \n",
    "  \n",
    "  * 2+3j 등 \n"
   ]
  },
  {
   "cell_type": "code",
   "execution_count": 1,
   "metadata": {
    "scrolled": true
   },
   "outputs": [
    {
     "name": "stdout",
     "output_type": "stream",
     "text": [
      "<class 'int'>\n",
      "<class 'float'>\n",
      "<class 'float'>\n"
     ]
    }
   ],
   "source": [
    "a = 7\n",
    "b = 7.0 \n",
    "c = 4.24e-10\n",
    "d = 0o123 \n",
    "e = 0x1AB\n",
    "\n",
    "print(type(a))\n",
    "print(type(b))\n",
    "print(type(c))"
   ]
  },
  {
   "cell_type": "markdown",
   "metadata": {},
   "source": [
    "## 2. 연산자\n",
    "\n",
    "* 사칙연산: +, -, *, /\n",
    "* x 의 y 제곱: **\n",
    "* 나눗셈 후 몫: // , 나머지: % \n",
    "\n",
    "/ 는 실수를 반환하는 반면, // 는 정수를 반환한다."
   ]
  },
  {
   "cell_type": "code",
   "execution_count": 4,
   "metadata": {},
   "outputs": [
    {
     "name": "stdout",
     "output_type": "stream",
     "text": [
      "-3\n",
      "3.0\n",
      "3\n"
     ]
    }
   ],
   "source": [
    "a = 3\n",
    "a = -a \n",
    "print(a)\n",
    "\n",
    "b = 9\n",
    "c = 3\n",
    "d = b / c \n",
    "e = b // c \n",
    "\n",
    "print(d)\n",
    "print(e)"
   ]
  },
  {
   "cell_type": "markdown",
   "metadata": {},
   "source": [
    "## 3. 함수\n",
    "\n",
    "* int(), float() 등으로 정수, 실수로 변환 가능. \n",
    "\n",
    "* str() 로 숫자형을 문자형으로 변환 가능.  "
   ]
  },
  {
   "cell_type": "code",
   "execution_count": 3,
   "metadata": {},
   "outputs": [
    {
     "name": "stdout",
     "output_type": "stream",
     "text": [
      "<class 'int'>\n",
      "<class 'float'>\n",
      "-5\n",
      "<class 'str'>\n",
      "5\n"
     ]
    }
   ],
   "source": [
    "a = \"3\"\n",
    "b = int(a)\n",
    "c = float(a)\n",
    "print(type(b))\n",
    "print(type(c))\n",
    "\n",
    "d = -5.0\n",
    "e = int(d)\n",
    "f = str(d)\n",
    "print(e)\n",
    "print(type(f))\n",
    "\n",
    "g = 5.9\n",
    "print(int(g))"
   ]
  },
  {
   "cell_type": "markdown",
   "metadata": {},
   "source": [
    "* abs(x): x의 절댓값 반환 "
   ]
  },
  {
   "cell_type": "code",
   "execution_count": 4,
   "metadata": {},
   "outputs": [
    {
     "data": {
      "text/plain": [
       "5.9"
      ]
     },
     "execution_count": 4,
     "metadata": {},
     "output_type": "execute_result"
    }
   ],
   "source": [
    "abs(-5.9)"
   ]
  },
  {
   "cell_type": "markdown",
   "metadata": {},
   "source": [
    "round(x, [ndigits]): x를 반올림한 값 반환 \n",
    "* 두 번째 변수는 반올림하여 표시하고 싶은 소수점의 자릿수를 나타낸다. ndigits가 생략되거나 None일 경우 정수형태를 돌려줌. \n",
    "* 일반적인 반올림과 다를 수 있음: 올림/내림했을 때의 수가 똑같이 가깝다면, 반올림은 짝수를 선택한다. "
   ]
  },
  {
   "cell_type": "code",
   "execution_count": 6,
   "metadata": {},
   "outputs": [
    {
     "name": "stdout",
     "output_type": "stream",
     "text": [
      "4\n",
      "0\n",
      "2\n",
      "27.4\n",
      "4000\n"
     ]
    }
   ],
   "source": [
    "a = round(3.7)\n",
    "print(a)\n",
    "\n",
    "b = round(0.5)\n",
    "print(b)\n",
    "\n",
    "c = round(2.5)\n",
    "print(c)\n",
    "\n",
    "d = round(27.35, 1)\n",
    "print(d)\n",
    "\n",
    "e = round(3914, -3)\n",
    "print(e)"
   ]
  },
  {
   "cell_type": "markdown",
   "metadata": {},
   "source": [
    "* pow(x, y) : 거듭제곱. x ** y 과 같음  \n",
    "* divmod(x, y) : x와 y가 정수일 경우 몫과 나머지의 쌍을 돌려줌 "
   ]
  },
  {
   "cell_type": "code",
   "execution_count": 7,
   "metadata": {},
   "outputs": [
    {
     "name": "stdout",
     "output_type": "stream",
     "text": [
      "8\n",
      "(7, 2)\n"
     ]
    }
   ],
   "source": [
    "print(pow(2,3))\n",
    "print(divmod(23, 3))"
   ]
  },
  {
   "cell_type": "markdown",
   "metadata": {},
   "source": [
    "위와 같은 내장함수 이외에도 math 모듈을 이용할 수 있다. \n",
    "\n",
    "* math.floor(x): 내림\n",
    "* math.ceil(x): 올림\n",
    "* math.sqrt(x): 제곱근\n",
    "* math.factorial(x): 팩토리얼 \n",
    "* math.log(x,y): 로그 함수 (y를 밑으로 하는 log x 의 값을 반환)\n",
    "\n",
    "상수 \n",
    "* math.pi\n",
    "* math.e"
   ]
  },
  {
   "cell_type": "code",
   "execution_count": 9,
   "metadata": {},
   "outputs": [
    {
     "name": "stdout",
     "output_type": "stream",
     "text": [
      "-4\n",
      "-3\n",
      "2.5\n",
      "120\n",
      "2.0\n"
     ]
    }
   ],
   "source": [
    "import math\n",
    "\n",
    "print(math.floor(-3.6))\n",
    "print(math.ceil(-3.6))\n",
    "print(math.sqrt(6.25))\n",
    "print(math.factorial(5))\n",
    "print(math.log(100,10))"
   ]
  }
 ],
 "metadata": {
  "kernelspec": {
   "display_name": "Python 3",
   "language": "python",
   "name": "python3"
  },
  "language_info": {
   "codemirror_mode": {
    "name": "ipython",
    "version": 3
   },
   "file_extension": ".py",
   "mimetype": "text/x-python",
   "name": "python",
   "nbconvert_exporter": "python",
   "pygments_lexer": "ipython3",
   "version": "3.7.6"
  }
 },
 "nbformat": 4,
 "nbformat_minor": 4
}
